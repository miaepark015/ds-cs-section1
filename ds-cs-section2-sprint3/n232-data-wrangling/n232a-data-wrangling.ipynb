{
 "cells": [
  {
   "cell_type": "markdown",
   "metadata": {},
   "source": [
    "<img align=\"right\" src=\"https://ds-cs-images.s3.ap-northeast-2.amazonaws.com/Codestates_Fulllogo_Color.png\" width=100>\n",
    "\n",
    "## *DATA SCIENCE / SECTION 2 / SPRINT 3 / NOTE 2*\n",
    "\n",
    "# 📝 Assignment\n",
    "---\n",
    "# Data Wrangling\n"
   ]
  },
  {
   "cell_type": "markdown",
   "metadata": {},
   "source": [
    "### 1) 지속적으로 여러분의 포트폴리오 데이터를 랭글링 하세요\n",
    "- 여러분이 선택한 데이터들을 랭글링하여 모델을 만들기 위한 테이블 형태의 데이터로 만들어 보세요.\n",
    "- **다음 함수의 result를 완성시키고 리턴값을 과제 제출폼에 제출하세요.**"
   ]
  },
  {
   "cell_type": "code",
   "execution_count": null,
   "metadata": {},
   "outputs": [],
   "source": [
    "### 이곳에서 제출폼 과제를 진행해 주세요 ###\n",
    "import pandas as pd\n",
    "df = pd.read_csv(\"https://ds-lecture-data.s3.ap-northeast-2.amazonaws.com/assignments/purchase_data.csv\", sep=\",\",index_col=0)\n",
    "\n",
    "## 다음 result 함수 안에 male, female 변수를 계산하세요.(groupby, get_group을 사용하세요.)\n",
    "## sum_male: Age = 20, Gender = \"Male\" 그룹의 Price를 합하세요.\n",
    "## sum_female: Age = 20, Gender = \"Female\" 그룹의 Price를 합하세요.\n",
    "\n",
    "def result(df):\n",
    "\n",
    "    sum_male = ###이 부분을 완성하세요###\n",
    "    sum_female = ###이 부분을 완성하세요###\n",
    "\n",
    "    print(\"sum_male: {}, sum_female: {}\".format(sum_male, sum_female))\n",
    "    return round(sum_male + sum_female)\n",
    "\n",
    "result(df)"
   ]
  },
  {
   "cell_type": "code",
   "execution_count": null,
   "metadata": {},
   "outputs": [],
   "source": [
    "### 이곳에서 본인 데이터로 과제를 진행해 주세요 ### "
   ]
  },
  {
   "cell_type": "markdown",
   "metadata": {},
   "source": [
    "### 2) 새로 특징들을 만들어 보세요\n",
    "- 여러분이 선택한 데이터에서 특징 공학을 수행해 보세요.\n",
    "- **(다중선택) purchase_data를 랭글링하여 다음 조건을 계산하고 결과가 올바른 항목만 과제 제출폼에 제출하세요.**\n",
    "    1. 나이 1-20세 그룹(20세 포함)의 평균 Price는 3.101818이다.\n",
    "    2. 나이 21-50세 그룹의 평균 Price는 3.021559이다.\n",
    "    3. 가장 많이 구입한 아이템의 ID는 178 이다.\n",
    "    4. 두번째로 매출을 많이 낸 아이템 ID는 145이다."
   ]
  },
  {
   "cell_type": "code",
   "execution_count": null,
   "metadata": {},
   "outputs": [],
   "source": [
    "### 이곳에서 제출폼 과제를 진행해 주세요 ###\n",
    "# 그룹별 Price 평균\n",
    "\n",
    "# 판매수 상위 Item ID\n",
    "\n",
    "# 매출 상위 Item IDs\n"
   ]
  },
  {
   "cell_type": "code",
   "execution_count": null,
   "metadata": {},
   "outputs": [],
   "source": [
    "### 이곳에서 본인 데이터로 과제를 진행해 주세요 ### "
   ]
  },
  {
   "cell_type": "markdown",
   "metadata": {},
   "source": [
    "## 🔥 도전과제"
   ]
  },
  {
   "cell_type": "markdown",
   "metadata": {},
   "source": [
    "### 3) 조금 부족하더라도 최소한의 랭글링으로 데이터를 준비하여 간단한 모델을 학습시켜 보세요\n",
    "- 여러분들이 선택한 데이터를 가지고 간단한 모델을 학습하고 결과를 리포팅 합니다."
   ]
  },
  {
   "cell_type": "code",
   "execution_count": null,
   "metadata": {},
   "outputs": [],
   "source": [
    "### 이곳에서 과제를 진행해 주세요 ### "
   ]
  }
 ],
 "metadata": {
  "jupytext": {
   "cell_metadata_filter": "-all",
   "main_language": "python",
   "notebook_metadata_filter": "-all"
  },
  "kernelspec": {
   "display_name": "Python 3",
   "language": "python",
   "name": "python3"
  },
  "language_info": {
   "codemirror_mode": {
    "name": "ipython",
    "version": 3
   },
   "file_extension": ".py",
   "mimetype": "text/x-python",
   "name": "python",
   "nbconvert_exporter": "python",
   "pygments_lexer": "ipython3",
   "version": "3.7.7"
  }
 },
 "nbformat": 4,
 "nbformat_minor": 4
}
