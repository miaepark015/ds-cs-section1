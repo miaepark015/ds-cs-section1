{
 "cells": [
  {
   "cell_type": "markdown",
   "metadata": {},
   "source": [
    "<img align=\"right\" src=\"https://ds-cs-images.s3.ap-northeast-2.amazonaws.com/Codestates_Fulllogo_Color.png\" width=100>\n",
    "\n",
    "## *DATA SCIENCE / SECTION 2 / SPRINT 3 / NOTE 4*\n",
    "\n",
    "# 📝 Assignment\n",
    "---\n",
    "\n",
    "# Interpreting ML Model"
   ]
  },
  {
   "cell_type": "markdown",
   "metadata": {},
   "source": [
    "### 1) PDP를 만들어 모델을 설명하세요\n",
    "- 한 특성에 대한 PDP를 만들고 모델을 설명하세요\n",
    "- 두 특성간 관계에 대한 PDP를 만들고 모델을 설명하세요\n",
    "- **(제출폼 과제)Boston 데이터의 train 데이터를 사용해 PDP plots을 그린 후, 집값에 대해 상대적으로 양의 선형관계를 나타내는 특성의 번호를 과제 제출폼에 제출하세요.**\n",
    "    - 1. LSTAT\n",
    "    - 2. CRIM\n",
    "    - 3. NOX\n",
    "    - 4. RM\n"
   ]
  },
  {
   "cell_type": "code",
   "execution_count": null,
   "metadata": {},
   "outputs": [],
   "source": [
    "### 이곳에서 과제를 진행해 주세요 ### "
   ]
  },
  {
   "cell_type": "code",
   "execution_count": null,
   "metadata": {},
   "outputs": [],
   "source": [
    "### (제출폼 과제) 이곳에서 과제를 진행해 주세요 ###\n",
    "import sklearn\n",
    "import xgboost\n",
    "import shap\n",
    "from sklearn.model_selection import train_test_split\n",
    "\n",
    "shap.initjs();\n",
    "\n",
    "df, target = shap.datasets.boston()\n",
    "X_train,X_test,y_train,y_test = train_test_split(df, target, test_size=0.2, random_state=2)\n",
    "\n",
    "model = xgboost.XGBRegressor().fit(X_train, y_train)\n",
    "\n",
    "### Draw PDP plots ###\n"
   ]
  },
  {
   "cell_type": "markdown",
   "metadata": {},
   "source": [
    "### 2) SHAP 라이브러리를 사용해 최소 3개 이상 시각화를 하고 분석하세요\n",
    "- 본인 포트폴리오 데이터를 사용해서 SHAP 시각화를 수행하세요\n",
    "- **(제출폼 과제) SHAP 라이브러리를 사용해 다음 문항 중 설명이 올바른 항목을 선택한 후 과제 제출폼에 제출하세요.**\n",
    "    - 1. force_plot을 그려보면 CRIM은 항상 가격을 낮추는 영향을 준다.\n",
    "    - 2. SHAP의 summary_plot을 사용하면 permutation importance를 구할 수 있다.\n",
    "    - 3. SHAP summary_plot을 그려보면 (조건: X_train, plot_type='bar') LSTAT이 가장 영향력이 큰 특성으로 보인다.\n",
    "    - 4. 모델의 feature importance(model.feature_importances_)를 구하면 가장 영향력이 큰 특성이 RM임을 알 수있다.**\n"
   ]
  },
  {
   "cell_type": "code",
   "execution_count": null,
   "metadata": {},
   "outputs": [],
   "source": [
    "### 이곳에서 과제를 진행해 주세요 ###"
   ]
  },
  {
   "cell_type": "code",
   "execution_count": null,
   "metadata": {},
   "outputs": [],
   "source": [
    "### (제출폼 과제) 이곳에서 과제를 진행해 주세요 ###\n",
    "explainer = shap.TreeExplainer(model)\n",
    "\n",
    "### Draw SHAP plots ###"
   ]
  },
  {
   "cell_type": "markdown",
   "metadata": {},
   "source": [
    "## 🔥 도전과제"
   ]
  },
  {
   "cell_type": "markdown",
   "metadata": {},
   "source": [
    "### 3) 지속적으로 포트폴리오 프로젝트를 수행하세요\n",
    "- 지속적으로 데이터를 랭글링 하고 추가적인 시각화 결과를 만드세요"
   ]
  },
  {
   "cell_type": "code",
   "execution_count": null,
   "metadata": {},
   "outputs": [],
   "source": [
    "### 이곳에서 과제를 진행해 주세요 ###"
   ]
  }
 ],
 "metadata": {
  "kernelspec": {
   "display_name": "Python 3",
   "language": "python",
   "name": "python3"
  },
  "language_info": {
   "codemirror_mode": {
    "name": "ipython",
    "version": 3
   },
   "file_extension": ".py",
   "mimetype": "text/x-python",
   "name": "python",
   "nbconvert_exporter": "python",
   "pygments_lexer": "ipython3",
   "version": "3.7.7"
  }
 },
 "nbformat": 4,
 "nbformat_minor": 4
}
